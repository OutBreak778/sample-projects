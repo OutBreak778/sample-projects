{
  "nbformat": 4,
  "nbformat_minor": 0,
  "metadata": {
    "colab": {
      "provenance": [],
      "authorship_tag": "ABX9TyPcX//KBbTGo+/ncWddIa7J"
    },
    "kernelspec": {
      "name": "python3",
      "display_name": "Python 3"
    },
    "language_info": {
      "name": "python"
    }
  },
  "cells": [
    {
      "cell_type": "code",
      "execution_count": null,
      "metadata": {
        "colab": {
          "base_uri": "https://localhost:8080/"
        },
        "id": "H7tC83Fxolss",
        "outputId": "f617865c-df8c-4a29-aff3-e0108351de3e"
      },
      "outputs": [
        {
          "output_type": "stream",
          "name": "stdout",
          "text": [
            "Reading package lists... Done\n",
            "Building dependency tree... Done\n",
            "Reading state information... Done\n",
            "tesseract-ocr is already the newest version (4.1.1-2.1build1).\n",
            "0 upgraded, 0 newly installed, 0 to remove and 34 not upgraded.\n"
          ]
        }
      ],
      "source": [
        "!apt-get install tesseract-ocr -y"
      ]
    },
    {
      "cell_type": "code",
      "source": [
        "!pip install pytesseract"
      ],
      "metadata": {
        "colab": {
          "base_uri": "https://localhost:8080/"
        },
        "id": "cnZkWp0EsHH0",
        "outputId": "e88f44c2-2ee3-42c1-e620-1d3ec0c01a35"
      },
      "execution_count": null,
      "outputs": [
        {
          "output_type": "stream",
          "name": "stdout",
          "text": [
            "Collecting pytesseract\n",
            "  Downloading pytesseract-0.3.13-py3-none-any.whl.metadata (11 kB)\n",
            "Requirement already satisfied: packaging>=21.3 in /usr/local/lib/python3.11/dist-packages (from pytesseract) (24.2)\n",
            "Requirement already satisfied: Pillow>=8.0.0 in /usr/local/lib/python3.11/dist-packages (from pytesseract) (11.2.1)\n",
            "Downloading pytesseract-0.3.13-py3-none-any.whl (14 kB)\n",
            "Installing collected packages: pytesseract\n",
            "Successfully installed pytesseract-0.3.13\n"
          ]
        }
      ]
    },
    {
      "cell_type": "markdown",
      "source": [
        "## Define the Imports"
      ],
      "metadata": {
        "id": "hyp-Uos79gKM"
      }
    },
    {
      "cell_type": "code",
      "source": [
        "import pytesseract\n",
        "import cv2\n",
        "from PIL import Image\n",
        "import matplotlib.pyplot as plt"
      ],
      "metadata": {
        "id": "tI50QgA_tML1"
      },
      "execution_count": null,
      "outputs": []
    },
    {
      "cell_type": "markdown",
      "source": [
        "### Create a Function to extract text"
      ],
      "metadata": {
        "id": "FT2MvUUk9lTj"
      }
    },
    {
      "cell_type": "code",
      "source": [
        "def ImageExtracter(path):\n",
        "\n",
        "  img = cv2.imread(path)\n",
        "  gray = cv2.cvtColor(img, cv2.COLOR_BGR2GRAY)\n",
        "\n",
        "  thresh = cv2.threshold(gray, 150, 255, cv2.THRESH_BINARY)[1]\n",
        "  plt.imshow(thresh, cmap='gray')\n",
        "  plt.title(\"Preprocessed Image\")\n",
        "  plt.axis('off')\n",
        "  plt.show()\n",
        "\n",
        "  text = pytesseract.image_to_string(thresh)\n",
        "  return text\n"
      ],
      "metadata": {
        "id": "TzvhaFa9sLLr"
      },
      "execution_count": null,
      "outputs": []
    },
    {
      "cell_type": "markdown",
      "source": [
        "### Use the Sample with above function"
      ],
      "metadata": {
        "id": "TgXZmNBm9pIf"
      }
    },
    {
      "cell_type": "code",
      "source": [
        "text = ImageExtracter('/content/sample_data/image-ocr5.png')\n",
        "print(\"Extracted Text: \", text)\n"
      ],
      "metadata": {
        "id": "UnD48SUb4anS",
        "colab": {
          "base_uri": "https://localhost:8080/",
          "height": 494
        },
        "outputId": "bd636f96-6f65-42aa-bfcd-082273959bb6"
      },
      "execution_count": null,
      "outputs": [
        {
          "output_type": "display_data",
          "data": {
            "text/plain": [
              "<Figure size 640x480 with 1 Axes>"
            ],
            "image/png": "[encoded data removed]"
          },
          "metadata": {}
        },
        {
          "output_type": "stream",
          "name": "stdout",
          "text": [
            "Extracted Text:  ©) Peuretotex\n",
            "\n",
            "What is OCR\n",
            "{Optical Character\n",
            "Recognition)?\n",
            "\n",
            "cm nme\n",
            "\n",
            "s\n",
            "\f\n"
          ]
        }
      ]
    },
    {
      "cell_type": "code",
      "source": [
        "\n"
      ],
      "metadata": {
        "id": "dsHRLm4Y-d79"
      },
      "execution_count": null,
      "outputs": []
    }
  ]
}
